{
 "cells": [
  {
   "cell_type": "code",
   "execution_count": null,
   "outputs": [],
   "source": [
    "import os,inspect\n",
    "currentdir = os.path.dirname(os.path.abspath(inspect.getfile(inspect.currentframe())))\n",
    "parentdir = os.path.dirname(os.path.dirname(currentdir))\n",
    "os.sys.path.insert(0, parentdir)\n",
    "\n",
    "\n",
    "from src.gym.b3px_env.singleton import laikago, laikago_gym_env\n",
    "from src.gym.b3px_env.examples.laikago_b3px_simple_env import DefaultCfg\n",
    "from src.SAC import model, replay_buffer\n",
    "from src.SAC.model import *\n",
    "from src.SAC.replay_buffer import *\n",
    "import numpy as np\n",
    "import gym\n",
    "import gym.spaces\n",
    "import torch\n",
    "import torch.optim as optim\n",
    "import torch.nn as nn\n",
    "from tqdm import trange\n",
    "import copy\n",
    "\n",
    "import matplotlib.pyplot as plt\n",
    "\n",
    "mean_lambda = 1e-3\n",
    "std_lambda = 1e-3\n",
    "z_lambda = 0.0\n",
    "\n",
    "\n",
    "mean_lambda = 1e-3\n",
    "std_lambda = 1e-3\n",
    "z_lambda = 0.0\n",
    "\n",
    "cuda_avail = torch.cuda.is_available()\n",
    "device = torch.device(\"cuda\" if cuda_avail else \"cpu\")\n"
   ],
   "metadata": {
    "collapsed": false,
    "pycharm": {
     "name": "#%%\n"
    }
   }
  },
  {
   "cell_type": "code",
   "execution_count": null,
   "outputs": [],
   "source": [
    "def get_loss(val, next_val):\n",
    "    criterion = nn.MSELoss()\n",
    "\n",
    "    return criterion(val, next_val)\n",
    "\n",
    "\n",
    "def send_to_device(s, a, r, next_s, done):\n",
    "    s = torch.FloatTensor(s).to(device)\n",
    "    a = torch.FloatTensor(a).to(device)\n",
    "    r = torch.FloatTensor(r).unsqueeze(1).to(device)\n",
    "    next_s = torch.FloatTensor(next_s).to(device)\n",
    "    done = torch.FloatTensor(np.float32(done)).unsqueeze(1).to(device)\n",
    "    return s, a, r, next_s, done\n",
    "\n",
    "def get_action_dimension():\n",
    "    return 12\n",
    "\n",
    "def get_state_dimension():\n",
    "    return 26\n",
    "\n",
    "def make_env(cfg):\n",
    "    env = laikago_gym_env.LaikagoB3PxEnv(cfg)\n",
    "    return env\n"
   ],
   "metadata": {
    "collapsed": false,
    "pycharm": {
     "name": "#%%\n"
    }
   }
  },
  {
   "cell_type": "code",
   "execution_count": null,
   "outputs": [],
   "source": [
    "def run_episode(actor, buffer, v_critic, target_v_critic, q_critic, env, gamma, freq, max_steps, global_step,\n",
    "                v_optimizer, q_optimizer, actor_optimizer, evaluation=False):\n",
    "    state = env.reset()\n",
    "    done = False\n",
    "    total_reward = 0\n",
    "    # train_rewards = []\n",
    "    # test_rewards = []\n",
    "    for _ in range(max_steps):\n",
    "        action = actor.get_action(state)\n",
    "        next_state, reward, done, _ = env.step(action)\n",
    "        if not evaluation:\n",
    "            buffer.add(state, action, reward, next_state, done)\n",
    "\n",
    "            if 256 < len(buffer):\n",
    "                s, a, r, next_s, d = buffer.sample_batch(256)\n",
    "                s, a, r, next_s, d = send_to_device(s, a, r, next_s, d)\n",
    "\n",
    "                q = q_critic.forward(s, a)\n",
    "                v = v_critic.forward(s)\n",
    "                new_a, log_prob, z, mean, log_std = actor.evaluate(s)\n",
    "\n",
    "                target_v = target_v_critic.forward(next_s)\n",
    "                next_q = r + (1 - d) * gamma * target_v\n",
    "                q_loss = get_loss(q, next_q.detach())\n",
    "\n",
    "                new_q = q_critic.forward(s, new_a)\n",
    "                next_v = new_q - log_prob\n",
    "                v_loss = get_loss(v, next_v.detach())\n",
    "\n",
    "                log_prob_target = new_q - v\n",
    "                actor_loss = (log_prob * (log_prob - log_prob_target).detach()).mean()\n",
    "\n",
    "                # regularization losses\n",
    "                mean_loss = mean_lambda * mean.pow(2).mean()\n",
    "                std_loss = std_lambda * log_std.pow(2).mean()\n",
    "                z_loss = z_lambda * z.pow(2).sum(1).mean()\n",
    "                actor_loss += mean_loss + std_loss + z_loss\n",
    "\n",
    "                q_critic.train(q_loss, q_optimizer)\n",
    "                v_critic.train(v_loss, v_optimizer)\n",
    "                actor.train(actor_loss, actor_optimizer)\n",
    "\n",
    "                # soft updates\n",
    "                for target_param, param in zip(target_v_critic.parameters(), v_critic.parameters()):\n",
    "                    target_param.data.copy_(target_param.data * (1.0 - 5 * 1e-3) + param.data * 5 * 1e-3)\n",
    "\n",
    "            global_step += 1\n",
    "            state = next_state\n",
    "            total_reward += reward\n",
    "\n",
    "            # if global_step % freq == 0 and not evaluation:\n",
    "            # reward, _, _ = run_episode(actor, buffer, v_critic, target_v_critic, q_critic, env, gamma, freq, max_steps, global_step, v_optimizer, q_optimizer, actor_optimizer, True)\n",
    "            # test_rewards.append(reward)\n",
    "\n",
    "            if done:\n",
    "                break\n",
    "\n",
    "    # train_rewards.append(total_reward)\n",
    "\n",
    "    return total_reward, global_step\n"
   ],
   "metadata": {
    "collapsed": false,
    "pycharm": {
     "name": "#%%\n"
    }
   }
  },
  {
   "cell_type": "code",
   "execution_count": null,
   "outputs": [],
   "source": [
    "def run_experiment(actor, buffer, v_critic, target_v_critic, q_critic, env, freq, v_optimizer, q_optimizer,\n",
    "                   actor_optimizer, gamma=0.99, max_steps=500, n_epi=10000):\n",
    "    global_step = 0\n",
    "    test_rewards = []\n",
    "    # test_rewards = [run_episode(actor, buffer, v_critic, target_v_critic, q_critic, env, gamma, freq, max_steps, global_step, v_optimizer, q_optimizer, actor_optimizer, evaluation=True)[0]]\n",
    "    train_rewards = []\n",
    "    num_steps = [0]\n",
    "    for i in trange(n_epi):\n",
    "        total_reward, global_step = run_episode(actor, buffer, v_critic, target_v_critic, q_critic, env, gamma, freq,\n",
    "                                                max_steps, global_step, v_optimizer, q_optimizer, actor_optimizer,\n",
    "                                                evaluation=False)\n",
    "        train_rewards.append(total_reward)\n",
    "        num_steps.append(global_step)\n",
    "    #     test_rewards.extend(test_reward)\n",
    "\n",
    "    return train_rewards, num_steps\n",
    "\n",
    "def main(arg):\n",
    "    # SimEnv Config\n",
    "    cfg = copy.deepcopy(DefaultCfg)\n",
    "    cfg['backend'] = 'physx' if arg.backend else 'bullet'\n",
    "    # cfg['gui']= True\n",
    "    #--------------------------------------------------\n",
    "    NetShape = (get_state_dimension(), 256, 128, 64, get_action_dimension())\n",
    "    train_rewards = []\n",
    "    num_steps = []\n",
    "    test_rewards = np.zeros(shape=(arg.n_exp, arg.max // arg.freq + 1), dtype=np.float64)\n",
    "\n",
    "    for i in trange(arg.n_exp):\n",
    "        # env = NormalizedActions(gym.make(arg.env))\n",
    "        env = make_env(cfg)\n",
    "        env.seed(np.random.randint(12345))\n",
    "        a_dim = get_action_dimension()\n",
    "        s_dim = get_state_dimension()\n",
    "\n",
    "        buffer = ReplayBuffer(size=arg.buffer, a_dim=a_dim, a_dtype=np.float32, s_dim=s_dim, s_dtype=np.float32, store_mu=False)\n",
    "\n",
    "        v_critic = VCritic(n_neurons=NetShape).to(device)\n",
    "        target_v_critic = VCritic(n_neurons=NetShape).to(device)\n",
    "        softq_critic = SoftQCritic(a_dim= get_action_dimension(), n_neurons=NetShape).to(device)\n",
    "\n",
    "        SAC_actor = SACActor(n_neurons=NetShape).to(device)\n",
    "\n",
    "        v_optimizer = optim.Adam(v_critic.parameters(), lr=3e-4)\n",
    "        q_optimizer = optim.Adam(softq_critic.parameters(), lr=3e-4)\n",
    "        actor_optimizer = optim.Adam(SAC_actor.parameters(), lr=3e-4)\n",
    "\n",
    "        train_rewards, steps = run_experiment(SAC_actor, buffer, v_critic, target_v_critic, softq_critic, env, arg.freq, v_optimizer, q_optimizer, actor_optimizer, arg.discount, arg.max, arg.n_epi)\n",
    "        train_rewards.append(reward)\n",
    "        num_steps.append(steps)\n"
   ],
   "metadata": {
    "collapsed": false,
    "pycharm": {
     "name": "#%%\n"
    }
   }
  },
  {
   "cell_type": "code",
   "execution_count": null,
   "outputs": [],
   "source": [
    "if __name__ == '__main__':\n",
    "    from argparse import ArgumentParser\n",
    "    argparser = ArgumentParser()\n",
    "    argparser.add_argument('-b', '--buffer', type=int, default=1000000, help='Buffer size (default: 1000000).')\n",
    "    argparser.add_argument('-d', '--discount', type=float, default=0.99, help='Discount factor, gamma (default: 0.99).')\n",
    "    argparser.add_argument('-f', '--freq', type=int, default=500, help='An evaluation episode is done at every _freq_ step.')\n",
    "    argparser.add_argument('-m', '--max', type=int, default=500, help='Max number of steps (default: 500).')\n",
    "    argparser.add_argument('-n', '--n_exp', type=int, default=20, help='Number of experiments (default: 20).')\n",
    "    argparser.add_argument('-p', '--n_epi', type=int, default=10000, help='Number of episodes (default: 10000).')\n",
    "    argparser.add_argument('--backend', type=bool, default=False, help = 'BackEnd type(default: False, pybullet, True, PhysX)')\n",
    "    arg = argparser.parse_args()\n",
    "\n",
    "    main(arg)"
   ],
   "metadata": {
    "collapsed": false,
    "pycharm": {
     "name": "#%%\n"
    }
   }
  }
 ],
 "metadata": {
  "language_info": {
   "codemirror_mode": {
    "name": "ipython",
    "version": 2
   },
   "file_extension": ".py",
   "mimetype": "text/x-python",
   "name": "python",
   "nbconvert_exporter": "python",
   "pygments_lexer": "ipython2",
   "version": "2.7.6"
  },
  "kernelspec": {
   "name": "pycharm-1791ca19",
   "language": "python",
   "display_name": "PyCharm (pybullet_demo)"
  },
  "pycharm": {
   "stem_cell": {
    "cell_type": "raw",
    "source": [],
    "metadata": {
     "collapsed": false
    }
   }
  }
 },
 "nbformat": 4,
 "nbformat_minor": 0
}